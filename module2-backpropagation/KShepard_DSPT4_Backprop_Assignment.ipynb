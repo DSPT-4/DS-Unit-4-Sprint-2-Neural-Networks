{
 "cells": [
  {
   "cell_type": "markdown",
   "metadata": {
    "toc": true
   },
   "source": [
    "<h1>Table of Contents<span class=\"tocSkip\"></span></h1>\n",
    "<div class=\"toc\"><ul class=\"toc-item\"><li><span><a href=\"#Backpropagation-Practice\" data-toc-modified-id=\"Backpropagation-Practice-1\"><span class=\"toc-item-num\">1&nbsp;&nbsp;</span>Backpropagation Practice</a></span><ul class=\"toc-item\"><li><span><a href=\"#Data-Science-Unit-4-Sprint-2-Assignment-2\" data-toc-modified-id=\"Data-Science-Unit-4-Sprint-2-Assignment-2-1.1\"><span class=\"toc-item-num\">1.1&nbsp;&nbsp;</span><em>Data Science Unit 4 Sprint 2 Assignment 2</em></a></span></li><li><span><a href=\"#Try-building/training-a-more-complex-MLP-on-a-bigger-dataset.\" data-toc-modified-id=\"Try-building/training-a-more-complex-MLP-on-a-bigger-dataset.-1.2\"><span class=\"toc-item-num\">1.2&nbsp;&nbsp;</span>Try building/training a more complex MLP on a bigger dataset.</a></span></li><li><span><a href=\"#Stretch-Goals:\" data-toc-modified-id=\"Stretch-Goals:-1.3\"><span class=\"toc-item-num\">1.3&nbsp;&nbsp;</span>Stretch Goals:</a></span></li></ul></li></ul></div>"
   ]
  },
  {
   "cell_type": "markdown",
   "metadata": {
    "colab_type": "text",
    "id": "NGGrt9EYlCqY"
   },
   "source": [
    "<img align=\"left\" src=\"https://lever-client-logos.s3.amazonaws.com/864372b1-534c-480e-acd5-9711f850815c-1524247202159.png\" width=200>\n",
    "<br></br>\n",
    "\n",
    "# Backpropagation Practice\n",
    "\n",
    "## *Data Science Unit 4 Sprint 2 Assignment 2*\n",
    "\n",
    "Implement a 3 input, 4 node hidden-layer, 1 output node Multilayer Perceptron on the following dataset:\n",
    "\n",
    "| x1 | x2 | x3 | y |\n",
    "|----|----|----|---|\n",
    "| 0  | 0  | 1  | 0 |\n",
    "| 0  | 1  | 1  | 1 |\n",
    "| 1  | 0  | 1  | 1 |\n",
    "| 0  | 1  | 0  | 1 |\n",
    "| 1  | 0  | 0  | 1 |\n",
    "| 1  | 1  | 1  | 0 |\n",
    "| 0  | 0  | 0  | 0 |\n",
    "\n",
    "If you look at the data you'll notice that the first two columns behave like an XOR gate while the last column is mostly just noise. Remember that creating an XOR gate was what the perceptron was criticized for not being able to learn. "
   ]
  },
  {
   "cell_type": "code",
   "execution_count": 1,
   "metadata": {},
   "outputs": [],
   "source": [
    "# Set data as arrays\n",
    "\n",
    "import numpy as np\n",
    "\n",
    "X = np.array([\n",
    "    [0, 0, 1],\n",
    "    [0, 1, 1],\n",
    "    [1, 0, 1],\n",
    "    [0, 1, 0],\n",
    "    [1, 0, 0],\n",
    "    [1, 1, 1],\n",
    "    [0, 0, 0]\n",
    "])\n",
    "\n",
    "y = np.array([\n",
    "    [0],\n",
    "    [1],\n",
    "    [1],\n",
    "    [1],\n",
    "    [1],\n",
    "    [0],\n",
    "    [0]\n",
    "])"
   ]
  },
  {
   "cell_type": "code",
   "execution_count": 2,
   "metadata": {
    "colab": {},
    "colab_type": "code",
    "id": "nEREYT-3wI1f"
   },
   "outputs": [],
   "source": [
    "# I want activations that correspond to negative weights to be lower\n",
    "# and activations that correspond to positive weights to be higher\n",
    "\n",
    "# create neural network class.\n",
    "class NeuralNetwork:\n",
    "  # __init__ function.\n",
    "    def __init__(self):\n",
    "        # set up architecture of neural network.\n",
    "        \n",
    "        # set input nodes.\n",
    "        self.inputs = 3\n",
    "        # set hidden nodes.\n",
    "        self.hiddenNodes = 4\n",
    "        # set output nodes.\n",
    "        self.outputNodes = 1\n",
    "\n",
    "        # create initial weights.\n",
    "        # 2x3 matrix array for the first Layer.\n",
    "        self.weights1 = np.random.rand(self.inputs, self.hiddenNodes)\n",
    "        \n",
    "        # 3x1 matrix array for hidden to output.\n",
    "        self.weights2 = np.random.rand(self.hiddenNodes, self.outputNodes)\n",
    "        \n",
    "    # create sigmoid function.    \n",
    "    def sigmoid(self, s):\n",
    "        return 1 / (1+np.exp(-s))\n",
    "    \n",
    "    # create sigmoidprime function.\n",
    "    def sigmoidPrime(self, x):\n",
    "        s = self.sigmoid(x)\n",
    "        return s * (1 - s)\n",
    "    \n",
    "    # create feedforward function.\n",
    "    def feed_forward(self, X):\n",
    "        \"\"\"\n",
    "        Calculate the NN inference using feed forward.\n",
    "        aka \"predict\"\n",
    "        \"\"\"\n",
    "        # weighted sum of inputs => hidden layer.\n",
    "        self.hidden_sum = np.dot(X, self.weights1)\n",
    "        # activations of weighted sum.\n",
    "        self.activated_hidden = self.sigmoid(self.hidden_sum)\n",
    "        # weight sum between hidden and output.\n",
    "        self.output_sum = np.dot(self.activated_hidden, self.weights2)\n",
    "        # final activation of output.\n",
    "        self.activated_output = self.sigmoid(self.output_sum)\n",
    "        \n",
    "        return self.activated_output\n",
    "\n",
    "    # create backward pass function.    \n",
    "    def backward(self, X,y,o):\n",
    "        \"\"\"\n",
    "        Backward propagate through the network\n",
    "        \"\"\"\n",
    "        # error in output.\n",
    "        self.o_error = y - o \n",
    "        \n",
    "        # apply derivative of sigmoid to error.\n",
    "        # how far off are we in relation to the Sigmoid f(x) of the output.\n",
    "        # ^- aka hidden => output.\n",
    "        self.o_delta = self.o_error * self.sigmoidPrime(o) # scale by sigmoidprime derivative.\n",
    "        \n",
    "        # z2 error.\n",
    "        self.z2_error = self.o_delta.dot(self.weights2.T)\n",
    "        \n",
    "        # how much of that \"far off\" can explained by the input => hidden.\n",
    "        self.z2_delta = self.z2_error * self.sigmoidPrime(self.activated_hidden)\n",
    "        \n",
    "        # adjustment to first set of weights (input => hidden).\n",
    "        self.weights1 = self.weights1 + X.T.dot(self.z2_delta)\n",
    "        \n",
    "        # adjustment to second set of weights (hidden => output).\n",
    "        self.weights2 = self.weights2 + self.activated_hidden.T.dot(self.o_delta)\n",
    "        \n",
    "  # create train function, performs 1 epoch of the training process.\n",
    "    def train(self, X, y):\n",
    "        o = self.feed_forward(X)\n",
    "        self.backward(X,y,o)"
   ]
  },
  {
   "cell_type": "code",
   "execution_count": 3,
   "metadata": {},
   "outputs": [
    {
     "name": "stdout",
     "output_type": "stream",
     "text": [
      "+---------EPOCH 1---------+\n",
      "Input: \n",
      " [[0 0 1]\n",
      " [0 1 1]\n",
      " [1 0 1]\n",
      " [0 1 0]\n",
      " [1 0 0]\n",
      " [1 1 1]\n",
      " [0 0 0]]\n",
      "Actual Output: \n",
      " [[0]\n",
      " [1]\n",
      " [1]\n",
      " [1]\n",
      " [1]\n",
      " [0]\n",
      " [0]]\n",
      "Predicted Output: \n",
      " [[0.65108862]\n",
      " [0.66221205]\n",
      " [0.67598   ]\n",
      " [0.65219666]\n",
      " [0.66548401]\n",
      " [0.68583058]\n",
      " [0.63966239]]\n",
      "Loss: \n",
      " 0.2507722442174635\n",
      "+---------EPOCH 2---------+\n",
      "Input: \n",
      " [[0 0 1]\n",
      " [0 1 1]\n",
      " [1 0 1]\n",
      " [0 1 0]\n",
      " [1 0 0]\n",
      " [1 1 1]\n",
      " [0 0 0]]\n",
      "Actual Output: \n",
      " [[0]\n",
      " [1]\n",
      " [1]\n",
      " [1]\n",
      " [1]\n",
      " [0]\n",
      " [0]]\n",
      "Predicted Output: \n",
      " [[0.59941691]\n",
      " [0.60326575]\n",
      " [0.61958545]\n",
      " [0.60302317]\n",
      " [0.61937764]\n",
      " [0.62334202]\n",
      " [0.5997161 ]]\n",
      "Loss: \n",
      " 0.24458465460904905\n",
      "+---------EPOCH 3---------+\n",
      "Input: \n",
      " [[0 0 1]\n",
      " [0 1 1]\n",
      " [1 0 1]\n",
      " [0 1 0]\n",
      " [1 0 0]\n",
      " [1 1 1]\n",
      " [0 0 0]]\n",
      "Actual Output: \n",
      " [[0]\n",
      " [1]\n",
      " [1]\n",
      " [1]\n",
      " [1]\n",
      " [0]\n",
      " [0]]\n",
      "Predicted Output: \n",
      " [[0.57903837]\n",
      " [0.58053674]\n",
      " [0.59771131]\n",
      " [0.58484127]\n",
      " [0.60230094]\n",
      " [0.59944358]\n",
      " [0.58465737]]\n",
      "Loss: \n",
      " 0.2435356000077249\n",
      "+---------EPOCH 4---------+\n",
      "Input: \n",
      " [[0 0 1]\n",
      " [0 1 1]\n",
      " [1 0 1]\n",
      " [0 1 0]\n",
      " [1 0 0]\n",
      " [1 1 1]\n",
      " [0 0 0]]\n",
      "Actual Output: \n",
      " [[0]\n",
      " [1]\n",
      " [1]\n",
      " [1]\n",
      " [1]\n",
      " [0]\n",
      " [0]]\n",
      "Predicted Output: \n",
      " [[0.57140773]\n",
      " [0.57270574]\n",
      " [0.59012824]\n",
      " [0.57933443]\n",
      " [0.59714458]\n",
      " [0.59168331]\n",
      " [0.57968569]]\n",
      "Loss: \n",
      " 0.24320838453884017\n",
      "+---------EPOCH 5---------+\n",
      "Input: \n",
      " [[0 0 1]\n",
      " [0 1 1]\n",
      " [1 0 1]\n",
      " [0 1 0]\n",
      " [1 0 0]\n",
      " [1 1 1]\n",
      " [0 0 0]]\n",
      "Actual Output: \n",
      " [[0]\n",
      " [1]\n",
      " [1]\n",
      " [1]\n",
      " [1]\n",
      " [0]\n",
      " [0]]\n",
      "Predicted Output: \n",
      " [[0.56813216]\n",
      " [0.56997125]\n",
      " [0.58745416]\n",
      " [0.57816716]\n",
      " [0.5960839 ]\n",
      " [0.58947265]\n",
      " [0.57816673]]\n",
      "Loss: \n",
      " 0.24296269766938852\n",
      "+---------EPOCH 1000---------+\n",
      "Input: \n",
      " [[0 0 1]\n",
      " [0 1 1]\n",
      " [1 0 1]\n",
      " [0 1 0]\n",
      " [1 0 0]\n",
      " [1 1 1]\n",
      " [0 0 0]]\n",
      "Actual Output: \n",
      " [[0]\n",
      " [1]\n",
      " [1]\n",
      " [1]\n",
      " [1]\n",
      " [0]\n",
      " [0]]\n",
      "Predicted Output: \n",
      " [[0.00291676]\n",
      " [0.9482191 ]\n",
      " [0.94836245]\n",
      " [0.95192458]\n",
      " [0.95206882]\n",
      " [0.08490809]\n",
      " [0.06111559]]\n",
      "Loss: \n",
      " 0.0029870500867501706\n",
      "+---------EPOCH 2000---------+\n",
      "Input: \n",
      " [[0 0 1]\n",
      " [0 1 1]\n",
      " [1 0 1]\n",
      " [0 1 0]\n",
      " [1 0 0]\n",
      " [1 1 1]\n",
      " [0 0 0]]\n",
      "Actual Output: \n",
      " [[0]\n",
      " [1]\n",
      " [1]\n",
      " [1]\n",
      " [1]\n",
      " [0]\n",
      " [0]]\n",
      "Predicted Output: \n",
      " [[6.21057514e-04]\n",
      " [9.77745279e-01]\n",
      " [9.77788074e-01]\n",
      " [9.78567517e-01]\n",
      " [9.78627300e-01]\n",
      " [3.66839818e-02]\n",
      " [2.68572199e-02]]\n",
      "Loss: \n",
      " 0.0005674566364083525\n",
      "+---------EPOCH 3000---------+\n",
      "Input: \n",
      " [[0 0 1]\n",
      " [0 1 1]\n",
      " [1 0 1]\n",
      " [0 1 0]\n",
      " [1 0 0]\n",
      " [1 1 1]\n",
      " [0 0 0]]\n",
      "Actual Output: \n",
      " [[0]\n",
      " [1]\n",
      " [1]\n",
      " [1]\n",
      " [1]\n",
      " [0]\n",
      " [0]]\n",
      "Predicted Output: \n",
      " [[2.82358605e-04]\n",
      " [9.85760150e-01]\n",
      " [9.85784519e-01]\n",
      " [9.86136678e-01]\n",
      " [9.86170811e-01]\n",
      " [2.35200706e-02]\n",
      " [1.73024174e-02]]\n",
      "Loss: \n",
      " 0.00023441978135457182\n",
      "+---------EPOCH 4000---------+\n",
      "Input: \n",
      " [[0 0 1]\n",
      " [0 1 1]\n",
      " [1 0 1]\n",
      " [0 1 0]\n",
      " [1 0 0]\n",
      " [1 1 1]\n",
      " [0 0 0]]\n",
      "Actual Output: \n",
      " [[0]\n",
      " [1]\n",
      " [1]\n",
      " [1]\n",
      " [1]\n",
      " [0]\n",
      " [0]]\n",
      "Predicted Output: \n",
      " [[1.64033712e-04]\n",
      " [9.89527475e-01]\n",
      " [9.89544219e-01]\n",
      " [9.89746636e-01]\n",
      " [9.89769546e-01]\n",
      " [1.73195114e-02]\n",
      " [1.27724421e-02]]\n",
      "Loss: \n",
      " 0.0001274169216286794\n",
      "+---------EPOCH 5000---------+\n",
      "Input: \n",
      " [[0 0 1]\n",
      " [0 1 1]\n",
      " [1 0 1]\n",
      " [0 1 0]\n",
      " [1 0 0]\n",
      " [1 1 1]\n",
      " [0 0 0]]\n",
      "Actual Output: \n",
      " [[0]\n",
      " [1]\n",
      " [1]\n",
      " [1]\n",
      " [1]\n",
      " [0]\n",
      " [0]]\n",
      "Predicted Output: \n",
      " [[1.08031509e-04]\n",
      " [9.91719355e-01]\n",
      " [9.91731999e-01]\n",
      " [9.91863796e-01]\n",
      " [9.91880607e-01]\n",
      " [1.37068083e-02]\n",
      " [1.01239238e-02]]\n",
      "Loss: \n",
      " 7.991905437006052e-05\n",
      "+---------EPOCH 6000---------+\n",
      "Input: \n",
      " [[0 0 1]\n",
      " [0 1 1]\n",
      " [1 0 1]\n",
      " [0 1 0]\n",
      " [1 0 0]\n",
      " [1 1 1]\n",
      " [0 0 0]]\n",
      "Actual Output: \n",
      " [[0]\n",
      " [1]\n",
      " [1]\n",
      " [1]\n",
      " [1]\n",
      " [0]\n",
      " [0]]\n",
      "Predicted Output: \n",
      " [[7.68587853e-05]\n",
      " [9.93153417e-01]\n",
      " [9.93163513e-01]\n",
      " [9.93256220e-01]\n",
      " [9.93269282e-01]\n",
      " [1.13406227e-02]\n",
      " [8.38528246e-03]]\n",
      "Loss: \n",
      " 5.476042440951072e-05\n",
      "+---------EPOCH 7000---------+\n",
      "Input: \n",
      " [[0 0 1]\n",
      " [0 1 1]\n",
      " [1 0 1]\n",
      " [0 1 0]\n",
      " [1 0 0]\n",
      " [1 1 1]\n",
      " [0 0 0]]\n",
      "Actual Output: \n",
      " [[0]\n",
      " [1]\n",
      " [1]\n",
      " [1]\n",
      " [1]\n",
      " [0]\n",
      " [0]]\n",
      "Predicted Output: \n",
      " [[5.76357482e-05]\n",
      " [9.94164695e-01]\n",
      " [9.94173060e-01]\n",
      " [9.94241811e-01]\n",
      " [9.94252373e-01]\n",
      " [9.67061240e-03]\n",
      " [7.15614535e-03]]\n",
      "Loss: \n",
      " 3.9847208051020706e-05\n",
      "+---------EPOCH 8000---------+\n",
      "Input: \n",
      " [[0 0 1]\n",
      " [0 1 1]\n",
      " [1 0 1]\n",
      " [0 1 0]\n",
      " [1 0 0]\n",
      " [1 1 1]\n",
      " [0 0 0]]\n",
      "Actual Output: \n",
      " [[0]\n",
      " [1]\n",
      " [1]\n",
      " [1]\n",
      " [1]\n",
      " [0]\n",
      " [0]]\n",
      "Predicted Output: \n",
      " [[4.49086389e-05]\n",
      " [9.94916057e-01]\n",
      " [9.94923172e-01]\n",
      " [9.94976165e-01]\n",
      " [9.94984961e-01]\n",
      " [8.42896512e-03]\n",
      " [6.24112011e-03]]\n",
      "Loss: \n",
      " 3.0287319928714942e-05\n",
      "+---------EPOCH 9000---------+\n",
      "Input: \n",
      " [[0 0 1]\n",
      " [0 1 1]\n",
      " [1 0 1]\n",
      " [0 1 0]\n",
      " [1 0 0]\n",
      " [1 1 1]\n",
      " [0 0 0]]\n",
      "Actual Output: \n",
      " [[0]\n",
      " [1]\n",
      " [1]\n",
      " [1]\n",
      " [1]\n",
      " [0]\n",
      " [0]]\n",
      "Predicted Output: \n",
      " [[3.60289104e-05]\n",
      " [9.95496240e-01]\n",
      " [9.95502411e-01]\n",
      " [9.95544480e-01]\n",
      " [9.95551971e-01]\n",
      " [7.46964645e-03]\n",
      " [5.53343648e-03]]\n",
      "Loss: \n",
      " 2.3794945307933137e-05\n",
      "+---------EPOCH 10000---------+\n",
      "Input: \n",
      " [[0 0 1]\n",
      " [0 1 1]\n",
      " [1 0 1]\n",
      " [0 1 0]\n",
      " [1 0 0]\n",
      " [1 1 1]\n",
      " [0 0 0]]\n",
      "Actual Output: \n",
      " [[0]\n",
      " [1]\n",
      " [1]\n",
      " [1]\n",
      " [1]\n",
      " [0]\n",
      " [0]]\n",
      "Predicted Output: \n",
      " [[2.95783565e-05]\n",
      " [9.95957718e-01]\n",
      " [9.95963154e-01]\n",
      " [9.95997337e-01]\n",
      " [9.96003832e-01]\n",
      " [6.70622976e-03]\n",
      " [4.96980027e-03]]\n",
      "Loss: \n",
      " 1.918573482210536e-05\n"
     ]
    }
   ],
   "source": [
    "# set the neuralnetwork class.\n",
    "nn = NeuralNetwork()\n",
    "\n",
    "# for loop for number of epochs / iterations, #10000 times.\n",
    "for i in range(10000):\n",
    "    if (i+1 in [1,2,3,4,5]) or ((i+1) % 1000 ==0):\n",
    "        print('+' + '---' * 3 + f'EPOCH {i+1}' + '---'*3 + '+')\n",
    "        print('Input: \\n', X)\n",
    "        print('Actual Output: \\n', y)\n",
    "        print('Predicted Output: \\n', str(nn.feed_forward(X)))\n",
    "        print(\"Loss: \\n\", str(np.mean(np.square(y - nn.feed_forward(X)))))\n",
    "        \n",
    "    # train the nueralnetwork class on X,y data.\n",
    "    nn.train(X,y)"
   ]
  },
  {
   "cell_type": "markdown",
   "metadata": {
    "colab_type": "text",
    "id": "8b-r70o8p2Dm"
   },
   "source": [
    "## Try building/training a more complex MLP on a bigger dataset.\n",
    "\n",
    "Use the [MNIST dataset](http://yann.lecun.com/exdb/mnist/) to build the cannonical handwriting digit recognizer and see what kind of accuracy you can achieve. \n",
    "\n",
    "If you need inspiration, the internet is chalk-full of tutorials, but I want you to see how far you can get on your own first. I've linked to the original MNIST dataset above but it will probably be easier to download data through a neural network library. If you reference outside resources make sure you understand every line of code that you're using from other sources, and share with your fellow students helpful resources that you find.\n"
   ]
  },
  {
   "cell_type": "code",
   "execution_count": 4,
   "metadata": {
    "colab": {},
    "colab_type": "code",
    "id": "5MOPtYdk1HgA"
   },
   "outputs": [],
   "source": [
    "# imports.\n",
    "import numpy as np\n",
    "from tensorflow.keras.datasets import mnist\n",
    "from tensorflow.keras.utils import to_categorical"
   ]
  },
  {
   "cell_type": "code",
   "execution_count": 5,
   "metadata": {},
   "outputs": [],
   "source": [
    "# input the given image dimensions.\n",
    "img_rows, img_cols = 28, 28"
   ]
  },
  {
   "cell_type": "code",
   "execution_count": 7,
   "metadata": {},
   "outputs": [],
   "source": [
    "# split data between train and test sets.\n",
    "(x_train, y_train), (x_test, y_test) = mnist.load_data()"
   ]
  },
  {
   "cell_type": "code",
   "execution_count": 9,
   "metadata": {},
   "outputs": [
    {
     "name": "stdout",
     "output_type": "stream",
     "text": [
      "x train: (60000, 28, 28)\n",
      "y train: (60000,)\n",
      "x test: (10000, 28, 28)\n",
      "y test: (10000,)\n"
     ]
    }
   ],
   "source": [
    "# show all dataframe shapes.\n",
    "print('x train:', x_train.shape)\n",
    "print('y train:', y_train.shape)\n",
    "print('x test:', x_test.shape)\n",
    "print('y test:', y_test.shape)"
   ]
  },
  {
   "cell_type": "code",
   "execution_count": 11,
   "metadata": {},
   "outputs": [],
   "source": [
    "# reshape the x_train data by dimensions.\n",
    "x_train = x_train.reshape(x_train.shape[0], img_rows * img_cols)\n",
    "# reshape the x_test data by dimensions.\n",
    "x_test = x_test.reshape(x_test.shape[0], img_rows * img_cols)\n",
    "\n",
    "# normalize the data sets.\n",
    "x_train = x_train / 255\n",
    "x_test = x_test / 255"
   ]
  },
  {
   "cell_type": "code",
   "execution_count": 13,
   "metadata": {},
   "outputs": [
    {
     "data": {
      "text/plain": [
       "(60000, 784)"
      ]
     },
     "execution_count": 13,
     "metadata": {},
     "output_type": "execute_result"
    }
   ],
   "source": [
    "# check its in correct format.\n",
    "x_train.shape"
   ]
  },
  {
   "cell_type": "markdown",
   "metadata": {},
   "source": [
    "### This is where I hit a brick wall. It felt like writers block but with code. I began to search for tutorials via google and found a repo with this exact assignment used in a short tutorial at the University of Toronto. There will be a multitude of notes throughout to guarantee understanding of how and why this code was used.\n",
    "\n",
    "### The code below is a replication of the repo which can be found at:\n",
    "\n",
    "https://github.com/wxs/keras-mnist-tutorial/blob/master/MNIST%20in%20Keras.ipynb"
   ]
  },
  {
   "cell_type": "code",
   "execution_count": 1,
   "metadata": {},
   "outputs": [],
   "source": [
    "%matplotlib inline"
   ]
  },
  {
   "cell_type": "code",
   "execution_count": 3,
   "metadata": {},
   "outputs": [
    {
     "name": "stderr",
     "output_type": "stream",
     "text": [
      "Using TensorFlow backend.\n"
     ]
    }
   ],
   "source": [
    "# Fresh import of prerequisite tools \n",
    "\n",
    "import matplotlib.pyplot as plt\n",
    "# make the figures a bit bigger\n",
    "plt.rcParams['figure.figsize'] = (7,7)\n",
    "import numpy as np\n",
    "\n",
    "from keras.datasets import mnist\n",
    "from keras.layers.core import Dense, Dropout, Activation\n",
    "from keras.models import Sequential\n",
    "from keras.utils import np_utils"
   ]
  },
  {
   "cell_type": "code",
   "execution_count": 19,
   "metadata": {},
   "outputs": [
    {
     "name": "stdout",
     "output_type": "stream",
     "text": [
      "X_train original shape (60000, 28, 28)\n",
      "y_train original shape (60000,)\n"
     ]
    }
   ],
   "source": [
    "'''I already loaded the data above and shuffled/split it between training and test sets\n",
    "but it has no real context as a stand alone so I did it again here. With an output of the \n",
    "dataframe shapes'''\n",
    "\n",
    "# Amount of input nodes?\n",
    "nb_classes = 10\n",
    "\n",
    "(X_train, y_train), (X_test, y_test) = mnist.load_data()\n",
    "\n",
    "print(\"X_train original shape\", X_train.shape)\n",
    "print(\"y_train original shape\", y_train.shape)"
   ]
  },
  {
   "cell_type": "code",
   "execution_count": 20,
   "metadata": {},
   "outputs": [
    {
     "data": {
      "image/png": "[encoded data removed]",
      "text/plain": [
       "<Figure size 504x504 with 9 Axes>"
      ]
     },
     "metadata": {
      "needs_background": "light"
     },
     "output_type": "display_data"
    }
   ],
   "source": [
    "# This is a for loop that visualizes the training data for the first 9 entries\n",
    "\n",
    "for i in range(9):\n",
    "    plt.subplot(3,3,i+1)\n",
    "    plt.imshow(X_train[i], cmap='Blues', interpolation='none')\n",
    "    plt.title(\"Class {}\".format(y_train[i]))"
   ]
  },
  {
   "cell_type": "code",
   "execution_count": 21,
   "metadata": {},
   "outputs": [
    {
     "name": "stdout",
     "output_type": "stream",
     "text": [
      "Training matrix shape (60000, 784)\n",
      "Test matrix shape (10000, 784)\n"
     ]
    }
   ],
   "source": [
    "''' I also began to format the data above but did not complete it. This code\n",
    "reshapes the data input (28x28 images) into a vector with 784 dimensions (pixels) and\n",
    "scales it to in the range of 0 to 1 versus 0 to 255'''\n",
    "\n",
    "X_train = X_train.reshape(60000, 784)\n",
    "X_test = X_test.reshape(10000, 784)\n",
    "X_train = X_train.astype('float32')\n",
    "X_test = X_test.astype('float32')\n",
    "X_train /= 255\n",
    "X_test /= 255\n",
    "\n",
    "print('Training matrix shape', X_train.shape)\n",
    "print('Test matrix shape', X_test.shape)"
   ]
  },
  {
   "cell_type": "markdown",
   "metadata": {},
   "source": [
    "### This ^^^ is where I experienced my blocker. Everything beyond this is code reused from the afforementioned github repo."
   ]
  },
  {
   "cell_type": "code",
   "execution_count": 23,
   "metadata": {},
   "outputs": [],
   "source": [
    "# The next step is to modify the matrixes using one-hot encoding\n",
    "\n",
    "Y_train = np_utils.to_categorical(y_train, nb_classes)\n",
    "Y_test = np_utils.to_categorical(y_test, nb_classes)"
   ]
  },
  {
   "cell_type": "code",
   "execution_count": 28,
   "metadata": {},
   "outputs": [],
   "source": [
    "# The following code builds a simple 3 layer fully connected network\n",
    "\n",
    "# Choose the keras model you want to use\n",
    "model = Sequential()\n",
    "# This adds a hidden layer of 512 nodes and the input shape\n",
    "model.add(Dense(512, input_shape=(784,)))\n",
    "# This uses the relu activation function on the output of the layer\n",
    "# above and takes all neg values to be 0\n",
    "model.add(Activation('relu'))\n",
    "# Dropout works by randomly setting the outgoing edges\n",
    "# of hidden units (neurons that make up hidden layers) to 0\n",
    "# at each update of the training phase. It helps to protect the model\n",
    "# from overfitting.\n",
    "model.add(Dropout(0.2))\n",
    "\n",
    "### I'm not sure why these were duplicated \n",
    "model.add(Dense(512))\n",
    "model.add(Activation('relu'))\n",
    "model.add(Dropout(0.2))\n",
    "\n",
    "model.add(Dense(10))\n",
    "# The \"softmax\" activation, ensures the output is a valid probaility\n",
    "# distribution, its values are all non-negative and sum to 1.\n",
    "model.add(Activation('softmax'))"
   ]
  },
  {
   "cell_type": "code",
   "execution_count": 35,
   "metadata": {},
   "outputs": [],
   "source": [
    "# When compiing a model, Keras asks you to specify your loss function and your optimizer.\n",
    "# The loss function we use here is called categorical crossentropy, it is a loss function\n",
    "# well-suited to comparing two probability distributions\n",
    "# The optimizer helps determine how quickly the model learns, how resistent it is to \n",
    "# getting \"stuck\" or \"blowing up\", \"adam\" is often a good choice (developed at U of T).\n",
    "\n",
    "model.compile(loss='categorical_crossentropy', optimizer='adam', metrics=['accuracy'])"
   ]
  },
  {
   "cell_type": "code",
   "execution_count": 37,
   "metadata": {},
   "outputs": [
    {
     "name": "stdout",
     "output_type": "stream",
     "text": [
      "Train on 60000 samples, validate on 10000 samples\n",
      "Epoch 1/4\n",
      "60000/60000 [==============================] - 7s 122us/step - loss: 0.0225 - accuracy: 0.9925 - val_loss: 0.0756 - val_accuracy: 0.9813\n",
      "Epoch 2/4\n",
      "60000/60000 [==============================] - 7s 119us/step - loss: 0.0183 - accuracy: 0.9940 - val_loss: 0.0743 - val_accuracy: 0.9821\n",
      "Epoch 3/4\n",
      "60000/60000 [==============================] - 7s 123us/step - loss: 0.0194 - accuracy: 0.9937 - val_loss: 0.0918 - val_accuracy: 0.9786\n",
      "Epoch 4/4\n",
      "60000/60000 [==============================] - 8s 127us/step - loss: 0.0181 - accuracy: 0.9941 - val_loss: 0.0730 - val_accuracy: 0.9824\n"
     ]
    },
    {
     "data": {
      "text/plain": [
       "<keras.callbacks.callbacks.History at 0x160286c2188>"
      ]
     },
     "execution_count": 37,
     "metadata": {},
     "output_type": "execute_result"
    }
   ],
   "source": [
    "# Now we feed the training data loaded earlier into the model(aka train the model)\n",
    "# Our goal is for the model to learn to classify digits.\n",
    "model.fit(X_train, Y_train,\n",
    "          batch_size=128, epochs=4,\n",
    "          verbose=1,\n",
    "          validation_data=(X_test, Y_test))"
   ]
  },
  {
   "cell_type": "code",
   "execution_count": 39,
   "metadata": {},
   "outputs": [
    {
     "name": "stdout",
     "output_type": "stream",
     "text": [
      "Test score: 0.07297395240982914\n",
      "Test accuracy: 0.9824000000953674\n"
     ]
    }
   ],
   "source": [
    "# Evaluate the models performance\n",
    "\n",
    "score = model.evaluate(X_test, Y_test, verbose=0)\n",
    "print('Test score:', score[0])\n",
    "print('Test accuracy:', score[1])\n"
   ]
  },
  {
   "cell_type": "markdown",
   "metadata": {},
   "source": [
    "\n",
    "### Inspecting the output\n",
    "It's always a good idea to inspect the output and make sure everything looks sane. Here we'll look at some examples it gets right, and some examples it gets wrong."
   ]
  },
  {
   "cell_type": "code",
   "execution_count": 41,
   "metadata": {},
   "outputs": [],
   "source": [
    "# The predict_classes function outputs the highest probability class\n",
    "# according to the trained classifier for each input example.\n",
    "predicted_classes = model.predict_classes(X_test)\n",
    "\n",
    "# Check which items we got right / wrong\n",
    "correct_indices = np.nonzero(predicted_classes == y_test)[0]\n",
    "incorrect_indices = np.nonzero(predicted_classes != y_test)[0]"
   ]
  },
  {
   "cell_type": "code",
   "execution_count": 42,
   "metadata": {},
   "outputs": [
    {
     "data": {
      "image/png": "[encoded data removed]",
      "text/plain": [
       "<Figure size 504x504 with 9 Axes>"
      ]
     },
     "metadata": {
      "needs_background": "light"
     },
     "output_type": "display_data"
    },
    {
     "data": {
      "image/png": "[encoded data removed]",
      "text/plain": [
       "<Figure size 504x504 with 9 Axes>"
      ]
     },
     "metadata": {
      "needs_background": "light"
     },
     "output_type": "display_data"
    }
   ],
   "source": [
    "plt.figure()\n",
    "for i, correct in enumerate(correct_indices[:9]):\n",
    "    plt.subplot(3,3,i+1)\n",
    "    plt.imshow(X_test[correct].reshape(28,28), cmap='gray', interpolation='none')\n",
    "    plt.title(\"Predicted {}, Class {}\".format(predicted_classes[correct], y_test[correct]))\n",
    "    \n",
    "plt.figure()\n",
    "for i, incorrect in enumerate(incorrect_indices[:9]):\n",
    "    plt.subplot(3,3,i+1)\n",
    "    plt.imshow(X_test[incorrect].reshape(28,28), cmap='gray', interpolation='none')\n",
    "    plt.title(\"Predicted {}, Class {}\".format(predicted_classes[incorrect], y_test[incorrect]))"
   ]
  },
  {
   "cell_type": "code",
   "execution_count": null,
   "metadata": {},
   "outputs": [],
   "source": []
  },
  {
   "cell_type": "markdown",
   "metadata": {
    "colab_type": "text",
    "id": "FwlRJSfBlCvy"
   },
   "source": [
    "## Stretch Goals: \n",
    "\n",
    "- Implement Cross Validation model evaluation on your MNIST implementation \n",
    "- Research different [Gradient Descent Based Optimizers](https://keras.io/optimizers/)\n",
    " - [Siraj Raval the evolution of gradient descent](https://www.youtube.com/watch?v=nhqo0u1a6fw)\n",
    "- Build a housing price estimation model using a neural network. How does its accuracy compare with the regression models that we fit earlier on in class?"
   ]
  },
  {
   "cell_type": "markdown",
   "metadata": {},
   "source": [
    "# Bonus Questions Chris Shared with us:\n",
    "\n",
    "1. Investigate the various loss functions. Which is best suited for the task at hand (predicting 1 / 0) and why?\n",
    "2. What is the difference between a loss function and a metric? Why might we need both in Keras?\n",
    "3. Investigate the various optimizers. Stochastic Gradient Descent (sgd) is not the learning algorithm dejour anyone. Why is that? What do newer optimizers such as adam have to offer?"
   ]
  },
  {
   "cell_type": "markdown",
   "metadata": {},
   "source": [
    "### Answers\n",
    "\n",
    "1.\n",
    "\n",
    "2.\n",
    "\n",
    "3."
   ]
  }
 ],
 "metadata": {
  "colab": {
   "name": "LS_DS_432_Backprop_Assignment.ipynb",
   "provenance": []
  },
  "kernelspec": {
   "display_name": "Python 3",
   "language": "python",
   "name": "python3"
  },
  "language_info": {
   "codemirror_mode": {
    "name": "ipython",
    "version": 3
   },
   "file_extension": ".py",
   "mimetype": "text/x-python",
   "name": "python",
   "nbconvert_exporter": "python",
   "pygments_lexer": "ipython3",
   "version": "3.7.4"
  },
  "toc": {
   "base_numbering": 1,
   "nav_menu": {},
   "number_sections": true,
   "sideBar": true,
   "skip_h1_title": false,
   "title_cell": "Table of Contents",
   "title_sidebar": "Contents",
   "toc_cell": true,
   "toc_position": {},
   "toc_section_display": true,
   "toc_window_display": false
  }
 },
 "nbformat": 4,
 "nbformat_minor": 4
}
